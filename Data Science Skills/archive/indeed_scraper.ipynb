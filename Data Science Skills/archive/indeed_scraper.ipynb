{
 "cells": [
  {
   "cell_type": "code",
   "execution_count": null,
   "metadata": {},
   "outputs": [],
   "source": [
    "## Install the required packages if they aren't already on your local system\n",
    "# %pip install beautifulsoup4 requests"
   ]
  },
  {
   "cell_type": "markdown",
   "metadata": {},
   "source": [
    "Free WebScraping API from here:\n",
    "https://app.zenscrape.com/  \n",
    "  \n",
    "You'll need to create a free account and create the zenkey.py file with the following entry:  \n",
    "  \n",
    "  api_key = '<your api key>'"
   ]
  },
  {
   "cell_type": "code",
   "execution_count": 1,
   "metadata": {},
   "outputs": [],
   "source": [
    "# Import needed libraries\n",
    "import pandas as pd\n",
    "from bs4 import BeautifulSoup\n",
    "import requests\n",
    "from zenkey import *"
   ]
  },
  {
   "cell_type": "code",
   "execution_count": 7,
   "metadata": {},
   "outputs": [
    {
     "ename": "AttributeError",
     "evalue": "'NoneType' object has no attribute 'find_all'",
     "output_type": "error",
     "traceback": [
      "\u001b[1;31m---------------------------------------------------------------------------\u001b[0m",
      "\u001b[1;31mAttributeError\u001b[0m                            Traceback (most recent call last)",
      "\u001b[1;32mc:\\Users\\John\\Documents\\Old Laptop Files\\Upload\\School\\MSDS\\Fall 2023\\data_607_team_some_name\\indeed_scraper.ipynb Cell 4\u001b[0m line \u001b[0;36m<cell line: 28>\u001b[1;34m()\u001b[0m\n\u001b[0;32m     <a href='vscode-notebook-cell:/c%3A/Users/John/Documents/Old%20Laptop%20Files/Upload/School/MSDS/Fall%202023/data_607_team_some_name/indeed_scraper.ipynb#W3sZmlsZQ%3D%3D?line=38'>39</a>\u001b[0m all_data \u001b[39m=\u001b[39m soup\u001b[39m.\u001b[39mfind(\u001b[39m\"\u001b[39m\u001b[39mul\u001b[39m\u001b[39m\"\u001b[39m, {\u001b[39m\"\u001b[39m\u001b[39mclass\u001b[39m\u001b[39m\"\u001b[39m: \u001b[39m\"\u001b[39m\u001b[39mcss-zu9cdh eu4oa1w0\u001b[39m\u001b[39m\"\u001b[39m})\n\u001b[0;32m     <a href='vscode-notebook-cell:/c%3A/Users/John/Documents/Old%20Laptop%20Files/Upload/School/MSDS/Fall%202023/data_607_team_some_name/indeed_scraper.ipynb#W3sZmlsZQ%3D%3D?line=40'>41</a>\u001b[0m \u001b[39m# Find all the link tags\u001b[39;00m\n\u001b[1;32m---> <a href='vscode-notebook-cell:/c%3A/Users/John/Documents/Old%20Laptop%20Files/Upload/School/MSDS/Fall%202023/data_607_team_some_name/indeed_scraper.ipynb#W3sZmlsZQ%3D%3D?line=41'>42</a>\u001b[0m link_tags \u001b[39m=\u001b[39m all_data\u001b[39m.\u001b[39;49mfind_all(\u001b[39m\"\u001b[39m\u001b[39mdiv\u001b[39m\u001b[39m\"\u001b[39m, {\u001b[39m\"\u001b[39m\u001b[39mclass\u001b[39m\u001b[39m\"\u001b[39m: \u001b[39m\"\u001b[39m\u001b[39mcardOutline\u001b[39m\u001b[39m\"\u001b[39m})\n\u001b[0;32m     <a href='vscode-notebook-cell:/c%3A/Users/John/Documents/Old%20Laptop%20Files/Upload/School/MSDS/Fall%202023/data_607_team_some_name/indeed_scraper.ipynb#W3sZmlsZQ%3D%3D?line=43'>44</a>\u001b[0m \u001b[39m# Extract data from each listing\u001b[39;00m\n\u001b[0;32m     <a href='vscode-notebook-cell:/c%3A/Users/John/Documents/Old%20Laptop%20Files/Upload/School/MSDS/Fall%202023/data_607_team_some_name/indeed_scraper.ipynb#W3sZmlsZQ%3D%3D?line=44'>45</a>\u001b[0m \u001b[39mfor\u001b[39;00m i \u001b[39min\u001b[39;00m \u001b[39mrange\u001b[39m(\u001b[39mlen\u001b[39m(link_tags)):\n",
      "\u001b[1;31mAttributeError\u001b[0m: 'NoneType' object has no attribute 'find_all'"
     ]
    }
   ],
   "source": [
    "# Set target url for indeed with keywords:\n",
    "job_title = \"data%20scientist\"\n",
    "pg_list_start = 0\n",
    "\n",
    "# Set the output dict and list\n",
    "results_dict = {}\n",
    "results_list = []\n",
    "\n",
    "# Build the target url\n",
    "tgt_url_list = [\n",
    "    \"https://www.indeed.com/jobs?q=\" + job_title + \"&start=\" + str(pg_list_start)\n",
    "    for pg_list_start in range(0, 10, 10)\n",
    "]\n",
    "\n",
    "# Create the HTTP request\n",
    "head = {\n",
    "    \"User-Agent\": \"Mozilla/5.0 (Windows NT 10.0; Win64; x64) AppleWebKit/537.36 (KHTML, like Gecko) Chrome/62.0.3202.94 Safari/537.36\",\n",
    "    \"Accept-Encoding\": \"gzip, deflate, br\",\n",
    "    \"Accept\": \"text/html,application/xhtml+xml,application/xml;q=0.9,image/webp,image/apng,*/*;q=0.8\",\n",
    "    \"Connection\": \"keep-alive\",\n",
    "    \"Accept-Language\": \"en-US,en;q=0.9,lt;q=0.8,et;q=0.7,de;q=0.6\",\n",
    "}\n",
    "\n",
    "## Setup and run the web scraper on the Indeed website\n",
    "headers = {\"apikey\": api_key}\n",
    "\n",
    "# Loop through the various pages returned\n",
    "for url in tgt_url_list:\n",
    "    params = ((\"url\", url),)\n",
    "\n",
    "    response = requests.get(\n",
    "        \"https://app.zenscrape.com/api/v1/get\", headers=headers, params=params\n",
    "    )\n",
    "\n",
    "    # Create the instance of Beautiful Soup using our scraped site\n",
    "    soup = BeautifulSoup(response.text, \"html.parser\")\n",
    "\n",
    "    # Identify all the job postings\n",
    "    all_data = soup.find(\"ul\", {\"class\": \"css-zu9cdh eu4oa1w0\"})\n",
    "\n",
    "    # Find all the link tags\n",
    "    link_tags = all_data.find_all(\"div\", {\"class\": \"cardOutline\"})\n",
    "\n",
    "    # Extract data from each listing\n",
    "    for i in range(len(link_tags)):\n",
    "        try:\n",
    "            results_dict[\"job_title\"] = (\n",
    "                link_tags[i]\n",
    "                .find(\"h2\", {\"class\": \"jobTitle\"})\n",
    "                .find(\"a\", {\"class\": \"jcs-JobTitle\"})\n",
    "                .text\n",
    "            )\n",
    "        except:\n",
    "            results_dict[\"job_title\"] = None\n",
    "\n",
    "        try:\n",
    "            results_dict['co_name'] = (\n",
    "                link_tags[i]\n",
    "                .find(\"div\", {'class': 'headings company_location'})\n",
    "                .find('span', {'class': 'companyName'})\n",
    "                .text\n",
    "            )\n",
    "        \n",
    "        except:\n",
    "            results_dict['co_name'] = None\n",
    "\n",
    "        try:\n",
    "            results_dict[\"href\"] = (\n",
    "                link_tags[i]\n",
    "                .find(\"h2\", {\"class\": \"jobTitle\"})\n",
    "                .find(\"a\", {\"class\": \"href\"})\n",
    "                .text\n",
    "            )\n",
    "\n",
    "        except:\n",
    "            results_dict[\"href\"] = None\n",
    "\n",
    "        results_list.append(results_dict)\n",
    "        results_dict = {}\n",
    "\n",
    "results_dict"
   ]
  },
  {
   "cell_type": "code",
   "execution_count": null,
   "metadata": {},
   "outputs": [],
   "source": [
    "## LinkedIn Scraping\n",
    "\n",
    "    "
   ]
  }
 ],
 "metadata": {
  "kernelspec": {
   "display_name": "Python 3",
   "language": "python",
   "name": "python3"
  },
  "language_info": {
   "codemirror_mode": {
    "name": "ipython",
    "version": 3
   },
   "file_extension": ".py",
   "mimetype": "text/x-python",
   "name": "python",
   "nbconvert_exporter": "python",
   "pygments_lexer": "ipython3",
   "version": "3.10.5"
  }
 },
 "nbformat": 4,
 "nbformat_minor": 2
}
